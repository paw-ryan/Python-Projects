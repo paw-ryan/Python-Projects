{
 "cells": [
  {
   "cell_type": "markdown",
   "metadata": {
    "colab_type": "text",
    "id": "2gy3NGLKEiK7"
   },
   "source": [
    "# Iris Project"
   ]
  },
  {
   "cell_type": "markdown",
   "metadata": {
    "colab_type": "text",
    "id": "4g9gLsL0EiK8"
   },
   "source": [
    "## Data Exploration and Analysis"
   ]
  },
  {
   "cell_type": "code",
   "execution_count": 3,
   "metadata": {
    "colab": {},
    "colab_type": "code",
    "id": "iRvN87cxEiK8"
   },
   "outputs": [],
   "source": [
    "import numpy as np\n",
    "import pandas as pd\n",
    "import seaborn as sns\n",
    "import matplotlib.pyplot as plt\n",
    "sns.set(color_codes=True)\n",
    "%matplotlib inline"
   ]
  },
  {
   "cell_type": "code",
   "execution_count": 4,
   "metadata": {
    "colab": {
     "base_uri": "https://localhost:8080/",
     "height": 102
    },
    "colab_type": "code",
    "executionInfo": {
     "elapsed": 2917,
     "status": "ok",
     "timestamp": 1574306812137,
     "user": {
      "displayName": "Anthony Ng",
      "photoUrl": "",
      "userId": "01122201020865534731"
     },
     "user_tz": -480
    },
    "id": "8b8upU2BEiK-",
    "outputId": "eb79ea59-aad9-4770-8147-c60cd88eecab"
   },
   "outputs": [
    {
     "name": "stdout",
     "output_type": "stream",
     "text": [
      "1.17.2\n",
      "0.25.1\n",
      "0.9.0\n",
      "3.7.4 (default, Aug 13 2019, 15:17:50) \n",
      "[Clang 4.0.1 (tags/RELEASE_401/final)]\n"
     ]
    }
   ],
   "source": [
    "print(np.__version__)\n",
    "print(pd.__version__)\n",
    "print(sns.__version__)\n",
    "import sys\n",
    "print(sys.version)"
   ]
  },
  {
   "cell_type": "markdown",
   "metadata": {
    "colab_type": "text",
    "id": "mqgcz357KK8n"
   },
   "source": [
    "# Reading data from Google Drive\n",
    "This is one way to obtain data from directory in your Google Drive. \n"
   ]
  },
  {
   "cell_type": "code",
   "execution_count": null,
   "metadata": {},
   "outputs": [],
   "source": [
    "pip install google"
   ]
  },
  {
   "cell_type": "code",
   "execution_count": 4,
   "metadata": {
    "collapsed": true
   },
   "outputs": [
    {
     "name": "stdout",
     "output_type": "stream",
     "text": [
      "Collecting google-colab\n",
      "  Downloading google-colab-1.0.0.tar.gz (72 kB)\n",
      "\u001b[K     |████████████████████████████████| 72 kB 1.5 MB/s eta 0:00:01\n",
      "\u001b[?25hCollecting google-auth~=1.4.0\n",
      "  Downloading google_auth-1.4.2-py2.py3-none-any.whl (64 kB)\n",
      "\u001b[K     |████████████████████████████████| 64 kB 1.9 MB/s eta 0:00:011\n",
      "\u001b[?25hCollecting ipykernel~=4.6.0\n",
      "  Downloading ipykernel-4.6.1-py3-none-any.whl (104 kB)\n",
      "\u001b[K     |████████████████████████████████| 104 kB 1.6 MB/s eta 0:00:01\n",
      "\u001b[?25hCollecting ipython~=5.5.0\n",
      "  Downloading ipython-5.5.0-py3-none-any.whl (758 kB)\n",
      "\u001b[K     |████████████████████████████████| 758 kB 1.5 MB/s eta 0:00:01\n",
      "\u001b[?25hCollecting notebook~=5.2.0\n",
      "  Downloading notebook-5.2.2-py2.py3-none-any.whl (8.0 MB)\n",
      "\u001b[K     |████████████████████████████████| 8.0 MB 460 kB/s eta 0:00:01\n",
      "\u001b[?25hCollecting six~=1.12.0\n",
      "  Downloading six-1.12.0-py2.py3-none-any.whl (10 kB)\n",
      "Collecting pandas~=0.24.0\n",
      "  Downloading pandas-0.24.2-cp37-cp37m-macosx_10_6_intel.macosx_10_9_intel.macosx_10_9_x86_64.macosx_10_10_intel.macosx_10_10_x86_64.whl (15.9 MB)\n",
      "\u001b[K     |████████████████████████████████| 15.9 MB 883 kB/s eta 0:00:01    |████████████▉                   | 6.4 MB 1.2 MB/s eta 0:00:09\n",
      "\u001b[?25hCollecting portpicker~=1.2.0\n",
      "  Downloading portpicker-1.2.0.tar.gz (17 kB)\n",
      "Collecting requests~=2.21.0\n",
      "  Downloading requests-2.21.0-py2.py3-none-any.whl (57 kB)\n",
      "\u001b[K     |████████████████████████████████| 57 kB 979 kB/s eta 0:00:01\n",
      "\u001b[?25hCollecting tornado~=4.5.0\n",
      "  Downloading tornado-4.5.3.tar.gz (484 kB)\n",
      "\u001b[K     |████████████████████████████████| 484 kB 954 kB/s eta 0:00:01\n",
      "\u001b[?25hRequirement already satisfied: rsa>=3.1.4 in /opt/anaconda3/envs/ml_python/lib/python3.7/site-packages (from google-auth~=1.4.0->google-colab) (4.6)\n",
      "Requirement already satisfied: pyasn1-modules>=0.2.1 in /opt/anaconda3/envs/ml_python/lib/python3.7/site-packages (from google-auth~=1.4.0->google-colab) (0.2.8)\n",
      "Requirement already satisfied: cachetools>=2.0.0 in /opt/anaconda3/envs/ml_python/lib/python3.7/site-packages (from google-auth~=1.4.0->google-colab) (4.1.1)\n",
      "Requirement already satisfied: jupyter-client in /opt/anaconda3/envs/ml_python/lib/python3.7/site-packages (from ipykernel~=4.6.0->google-colab) (6.1.7)\n",
      "Requirement already satisfied: traitlets>=4.1.0 in /opt/anaconda3/envs/ml_python/lib/python3.7/site-packages (from ipykernel~=4.6.0->google-colab) (5.0.5)\n",
      "Requirement already satisfied: appnope; sys_platform == \"darwin\" in /opt/anaconda3/envs/ml_python/lib/python3.7/site-packages (from ipython~=5.5.0->google-colab) (0.1.0)\n",
      "Collecting prompt-toolkit<2.0.0,>=1.0.4\n",
      "  Downloading prompt_toolkit-1.0.18-py3-none-any.whl (245 kB)\n",
      "\u001b[K     |████████████████████████████████| 245 kB 428 kB/s eta 0:00:01\n",
      "\u001b[?25hRequirement already satisfied: pygments in /opt/anaconda3/envs/ml_python/lib/python3.7/site-packages (from ipython~=5.5.0->google-colab) (2.7.2)\n",
      "Requirement already satisfied: setuptools>=18.5 in /opt/anaconda3/envs/ml_python/lib/python3.7/site-packages (from ipython~=5.5.0->google-colab) (50.3.1.post20201107)\n",
      "Requirement already satisfied: pexpect; sys_platform != \"win32\" in /opt/anaconda3/envs/ml_python/lib/python3.7/site-packages (from ipython~=5.5.0->google-colab) (4.8.0)\n",
      "Collecting simplegeneric>0.8\n",
      "  Downloading simplegeneric-0.8.1.zip (12 kB)\n",
      "Requirement already satisfied: decorator in /opt/anaconda3/envs/ml_python/lib/python3.7/site-packages (from ipython~=5.5.0->google-colab) (4.4.2)\n",
      "Requirement already satisfied: pickleshare in /opt/anaconda3/envs/ml_python/lib/python3.7/site-packages (from ipython~=5.5.0->google-colab) (0.7.5)\n",
      "Requirement already satisfied: jinja2 in /opt/anaconda3/envs/ml_python/lib/python3.7/site-packages (from notebook~=5.2.0->google-colab) (2.11.2)\n",
      "Requirement already satisfied: nbconvert in /opt/anaconda3/envs/ml_python/lib/python3.7/site-packages (from notebook~=5.2.0->google-colab) (6.0.7)\n",
      "Requirement already satisfied: terminado>=0.3.3; sys_platform != \"win32\" in /opt/anaconda3/envs/ml_python/lib/python3.7/site-packages (from notebook~=5.2.0->google-colab) (0.9.1)\n",
      "Requirement already satisfied: nbformat in /opt/anaconda3/envs/ml_python/lib/python3.7/site-packages (from notebook~=5.2.0->google-colab) (5.0.8)\n",
      "Requirement already satisfied: ipython-genutils in /opt/anaconda3/envs/ml_python/lib/python3.7/site-packages (from notebook~=5.2.0->google-colab) (0.2.0)\n",
      "Requirement already satisfied: jupyter-core in /opt/anaconda3/envs/ml_python/lib/python3.7/site-packages (from notebook~=5.2.0->google-colab) (4.7.0)\n",
      "Requirement already satisfied: python-dateutil>=2.5.0 in /opt/anaconda3/envs/ml_python/lib/python3.7/site-packages (from pandas~=0.24.0->google-colab) (2.8.1)\n",
      "Collecting numpy>=1.12.0\n",
      "  Downloading numpy-1.19.4-cp37-cp37m-macosx_10_9_x86_64.whl (15.3 MB)\n",
      "\u001b[K     |████████████████████████████████| 15.3 MB 816 kB/s eta 0:00:01    |████████▊                       | 4.2 MB 166 kB/s eta 0:01:07     |██████████████████████████      | 12.4 MB 726 kB/s eta 0:00:04\n",
      "\u001b[?25hRequirement already satisfied: pytz>=2011k in /opt/anaconda3/envs/ml_python/lib/python3.7/site-packages (from pandas~=0.24.0->google-colab) (2020.1)\n",
      "Collecting urllib3<1.25,>=1.21.1\n",
      "  Downloading urllib3-1.24.3-py2.py3-none-any.whl (118 kB)\n",
      "\u001b[K     |████████████████████████████████| 118 kB 1.1 MB/s eta 0:00:01\n",
      "\u001b[?25hRequirement already satisfied: certifi>=2017.4.17 in /opt/anaconda3/envs/ml_python/lib/python3.7/site-packages (from requests~=2.21.0->google-colab) (2020.11.8)\n",
      "Requirement already satisfied: chardet<3.1.0,>=3.0.2 in /opt/anaconda3/envs/ml_python/lib/python3.7/site-packages (from requests~=2.21.0->google-colab) (3.0.4)\n",
      "Collecting idna<2.9,>=2.5\n",
      "  Downloading idna-2.8-py2.py3-none-any.whl (58 kB)\n",
      "\u001b[K     |████████████████████████████████| 58 kB 1.1 MB/s eta 0:00:01\n",
      "\u001b[?25hRequirement already satisfied: pyasn1>=0.1.3 in /opt/anaconda3/envs/ml_python/lib/python3.7/site-packages (from rsa>=3.1.4->google-auth~=1.4.0->google-colab) (0.4.8)\n",
      "Requirement already satisfied: pyzmq>=13 in /opt/anaconda3/envs/ml_python/lib/python3.7/site-packages (from jupyter-client->ipykernel~=4.6.0->google-colab) (19.0.2)\n",
      "Requirement already satisfied: wcwidth in /opt/anaconda3/envs/ml_python/lib/python3.7/site-packages (from prompt-toolkit<2.0.0,>=1.0.4->ipython~=5.5.0->google-colab) (0.2.5)\n",
      "Requirement already satisfied: ptyprocess>=0.5 in /opt/anaconda3/envs/ml_python/lib/python3.7/site-packages (from pexpect; sys_platform != \"win32\"->ipython~=5.5.0->google-colab) (0.6.0)\n",
      "Requirement already satisfied: MarkupSafe>=0.23 in /opt/anaconda3/envs/ml_python/lib/python3.7/site-packages (from jinja2->notebook~=5.2.0->google-colab) (1.1.1)\n",
      "Requirement already satisfied: bleach in /opt/anaconda3/envs/ml_python/lib/python3.7/site-packages (from nbconvert->notebook~=5.2.0->google-colab) (3.2.1)\n",
      "Requirement already satisfied: nbclient<0.6.0,>=0.5.0 in /opt/anaconda3/envs/ml_python/lib/python3.7/site-packages (from nbconvert->notebook~=5.2.0->google-colab) (0.5.1)\n",
      "Requirement already satisfied: pandocfilters>=1.4.1 in /opt/anaconda3/envs/ml_python/lib/python3.7/site-packages (from nbconvert->notebook~=5.2.0->google-colab) (1.4.3)\n",
      "Requirement already satisfied: entrypoints>=0.2.2 in /opt/anaconda3/envs/ml_python/lib/python3.7/site-packages (from nbconvert->notebook~=5.2.0->google-colab) (0.3)\n",
      "Requirement already satisfied: jupyterlab-pygments in /opt/anaconda3/envs/ml_python/lib/python3.7/site-packages (from nbconvert->notebook~=5.2.0->google-colab) (0.1.2)\n",
      "Requirement already satisfied: mistune<2,>=0.8.1 in /opt/anaconda3/envs/ml_python/lib/python3.7/site-packages (from nbconvert->notebook~=5.2.0->google-colab) (0.8.4)\n",
      "Requirement already satisfied: testpath in /opt/anaconda3/envs/ml_python/lib/python3.7/site-packages (from nbconvert->notebook~=5.2.0->google-colab) (0.4.4)\n",
      "Requirement already satisfied: defusedxml in /opt/anaconda3/envs/ml_python/lib/python3.7/site-packages (from nbconvert->notebook~=5.2.0->google-colab) (0.6.0)\n",
      "Requirement already satisfied: jsonschema!=2.5.0,>=2.4 in /opt/anaconda3/envs/ml_python/lib/python3.7/site-packages (from nbformat->notebook~=5.2.0->google-colab) (3.2.0)\n",
      "Requirement already satisfied: packaging in /opt/anaconda3/envs/ml_python/lib/python3.7/site-packages (from bleach->nbconvert->notebook~=5.2.0->google-colab) (20.4)\n",
      "Requirement already satisfied: webencodings in /opt/anaconda3/envs/ml_python/lib/python3.7/site-packages (from bleach->nbconvert->notebook~=5.2.0->google-colab) (0.5.1)\n",
      "Requirement already satisfied: nest-asyncio in /opt/anaconda3/envs/ml_python/lib/python3.7/site-packages (from nbclient<0.6.0,>=0.5.0->nbconvert->notebook~=5.2.0->google-colab) (1.4.3)\n",
      "Requirement already satisfied: async-generator in /opt/anaconda3/envs/ml_python/lib/python3.7/site-packages (from nbclient<0.6.0,>=0.5.0->nbconvert->notebook~=5.2.0->google-colab) (1.10)\n"
     ]
    },
    {
     "name": "stdout",
     "output_type": "stream",
     "text": [
      "Requirement already satisfied: importlib-metadata; python_version < \"3.8\" in /opt/anaconda3/envs/ml_python/lib/python3.7/site-packages (from jsonschema!=2.5.0,>=2.4->nbformat->notebook~=5.2.0->google-colab) (2.0.0)\n",
      "Requirement already satisfied: pyrsistent>=0.14.0 in /opt/anaconda3/envs/ml_python/lib/python3.7/site-packages (from jsonschema!=2.5.0,>=2.4->nbformat->notebook~=5.2.0->google-colab) (0.17.3)\n",
      "Requirement already satisfied: attrs>=17.4.0 in /opt/anaconda3/envs/ml_python/lib/python3.7/site-packages (from jsonschema!=2.5.0,>=2.4->nbformat->notebook~=5.2.0->google-colab) (20.3.0)\n",
      "Requirement already satisfied: pyparsing>=2.0.2 in /opt/anaconda3/envs/ml_python/lib/python3.7/site-packages (from packaging->bleach->nbconvert->notebook~=5.2.0->google-colab) (2.4.7)\n",
      "Requirement already satisfied: zipp>=0.5 in /opt/anaconda3/envs/ml_python/lib/python3.7/site-packages (from importlib-metadata; python_version < \"3.8\"->jsonschema!=2.5.0,>=2.4->nbformat->notebook~=5.2.0->google-colab) (3.4.0)\n",
      "Building wheels for collected packages: google-colab, portpicker, tornado, simplegeneric\n",
      "  Building wheel for google-colab (setup.py) ... \u001b[?25ldone\n",
      "\u001b[?25h  Created wheel for google-colab: filename=google_colab-1.0.0-py2.py3-none-any.whl size=102290 sha256=5a71ccb5a824857c2646e67d45cb18f4f518ffb9d355d80511186e0d38b743e1\n",
      "  Stored in directory: /Users/RyanPaw/Library/Caches/pip/wheels/f6/3b/58/f34ea9045a7c69bd5634978bf25ac60277e90997d9e6e74192\n",
      "  Building wheel for portpicker (setup.py) ... \u001b[?25ldone\n",
      "\u001b[?25h  Created wheel for portpicker: filename=portpicker-1.2.0-py3-none-any.whl size=13371 sha256=5294deb03a835f7e37552e31b29b593a08b6649fe2345d4476b966fb2c8bd654\n",
      "  Stored in directory: /Users/RyanPaw/Library/Caches/pip/wheels/73/0c/f5/35977446e45e818e6b848be3d41e7f38298a5102f4dcda21c6\n",
      "  Building wheel for tornado (setup.py) ... \u001b[?25ldone\n",
      "\u001b[?25h  Created wheel for tornado: filename=tornado-4.5.3-cp37-cp37m-macosx_10_9_x86_64.whl size=420783 sha256=a6a87e5c2b52d9f246b9f673af7a4c5c6fcf61b7a7ea9d0e7e8854b6335236a9\n",
      "  Stored in directory: /Users/RyanPaw/Library/Caches/pip/wheels/a2/45/43/36ec7a893e16c1212a6b1505ded0a2d73cf8e863a0227c8e04\n",
      "  Building wheel for simplegeneric (setup.py) ... \u001b[?25ldone\n",
      "\u001b[?25h  Created wheel for simplegeneric: filename=simplegeneric-0.8.1-py3-none-any.whl size=5074 sha256=ecee058d20b255a8f60125a3e110c6f037a09c836ab3a4eb27307d1b124ea2c3\n",
      "  Stored in directory: /Users/RyanPaw/Library/Caches/pip/wheels/90/de/df/f1324f4dd966636ab877b82d467acad38a0998b1c42ddb7288\n",
      "Successfully built google-colab portpicker tornado simplegeneric\n",
      "Installing collected packages: six, google-auth, tornado, prompt-toolkit, simplegeneric, ipython, ipykernel, notebook, numpy, pandas, portpicker, urllib3, idna, requests, google-colab\n",
      "  Attempting uninstall: six\n",
      "    Found existing installation: six 1.15.0\n",
      "    Uninstalling six-1.15.0:\n",
      "      Successfully uninstalled six-1.15.0\n",
      "  Attempting uninstall: google-auth\n",
      "    Found existing installation: google-auth 1.23.0\n",
      "    Uninstalling google-auth-1.23.0:\n",
      "      Successfully uninstalled google-auth-1.23.0\n",
      "  Attempting uninstall: tornado\n",
      "    Found existing installation: tornado 6.0.4\n",
      "    Uninstalling tornado-6.0.4:\n",
      "      Successfully uninstalled tornado-6.0.4\n",
      "  Attempting uninstall: prompt-toolkit\n",
      "    Found existing installation: prompt-toolkit 3.0.8\n",
      "    Uninstalling prompt-toolkit-3.0.8:\n",
      "      Successfully uninstalled prompt-toolkit-3.0.8\n",
      "  Attempting uninstall: ipython\n",
      "    Found existing installation: ipython 7.19.0\n",
      "    Uninstalling ipython-7.19.0:\n",
      "      Successfully uninstalled ipython-7.19.0\n",
      "  Attempting uninstall: ipykernel\n",
      "    Found existing installation: ipykernel 5.3.4\n",
      "    Uninstalling ipykernel-5.3.4:\n",
      "      Successfully uninstalled ipykernel-5.3.4\n",
      "  Attempting uninstall: notebook\n",
      "    Found existing installation: notebook 6.1.4\n",
      "    Uninstalling notebook-6.1.4:\n",
      "      Successfully uninstalled notebook-6.1.4\n",
      "  Attempting uninstall: urllib3\n",
      "    Found existing installation: urllib3 1.25.11\n",
      "    Uninstalling urllib3-1.25.11:\n",
      "      Successfully uninstalled urllib3-1.25.11\n",
      "  Attempting uninstall: idna\n",
      "    Found existing installation: idna 2.10\n",
      "    Uninstalling idna-2.10:\n",
      "      Successfully uninstalled idna-2.10\n",
      "  Attempting uninstall: requests\n",
      "    Found existing installation: requests 2.24.0\n",
      "    Uninstalling requests-2.24.0:\n",
      "      Successfully uninstalled requests-2.24.0\n",
      "\u001b[31mERROR: After October 2020 you may experience errors when installing or updating packages. This is because pip will change the way that it resolves dependency conflicts.\n",
      "\n",
      "We recommend you use --use-feature=2020-resolver to test your packages with the new resolver before it becomes the default.\n",
      "\n",
      "google-cloud-storage 1.33.0 requires google-auth<2.0dev,>=1.11.0, but you'll have google-auth 1.4.2 which is incompatible.\n",
      "google-api-core 1.22.2 requires google-auth<2.0dev,>=1.21.1, but you'll have google-auth 1.4.2 which is incompatible.\u001b[0m\n",
      "Successfully installed google-auth-1.4.2 google-colab-1.0.0 idna-2.8 ipykernel-4.6.1 ipython-5.5.0 notebook-5.2.2 numpy-1.19.4 pandas-0.24.2 portpicker-1.2.0 prompt-toolkit-1.0.18 requests-2.21.0 simplegeneric-0.8.1 six-1.12.0 tornado-4.5.3 urllib3-1.24.3\n",
      "Note: you may need to restart the kernel to use updated packages.\n"
     ]
    }
   ],
   "source": [
    "pip install google-colab"
   ]
  },
  {
   "cell_type": "code",
   "execution_count": 1,
   "metadata": {
    "colab": {
     "base_uri": "https://localhost:8080/",
     "height": 122
    },
    "colab_type": "code",
    "executionInfo": {
     "elapsed": 25331,
     "status": "ok",
     "timestamp": 1570954152325,
     "user": {
      "displayName": "Anthony Ng",
      "photoUrl": "https://lh3.googleusercontent.com/a-/AAuE7mDCwHDw3XUA0T7h5JCQA3iBUS8Wbz1V-29O8pmP8g=s64",
      "userId": "06915612711739148186"
     },
     "user_tz": -480
    },
    "id": "Bp31CUdnKUtN",
    "outputId": "bb4674a1-3d41-47f8-96ea-810db4cba788"
   },
   "outputs": [
    {
     "ename": "ModuleNotFoundError",
     "evalue": "No module named 'google.colab'",
     "output_type": "error",
     "traceback": [
      "\u001b[0;31m---------------------------------------------------------------------------\u001b[0m",
      "\u001b[0;31mModuleNotFoundError\u001b[0m                       Traceback (most recent call last)",
      "\u001b[0;32m<ipython-input-1-4996ee3d8d09>\u001b[0m in \u001b[0;36m<module>\u001b[0;34m\u001b[0m\n\u001b[0;32m----> 1\u001b[0;31m \u001b[0;32mfrom\u001b[0m \u001b[0mgoogle\u001b[0m\u001b[0;34m.\u001b[0m\u001b[0mcolab\u001b[0m \u001b[0;32mimport\u001b[0m \u001b[0mdrive\u001b[0m\u001b[0;34m\u001b[0m\u001b[0;34m\u001b[0m\u001b[0m\n\u001b[0m\u001b[1;32m      2\u001b[0m \u001b[0mdrive\u001b[0m\u001b[0;34m.\u001b[0m\u001b[0mmount\u001b[0m\u001b[0;34m(\u001b[0m\u001b[0;34m'/content/gdrive'\u001b[0m\u001b[0;34m)\u001b[0m\u001b[0;34m\u001b[0m\u001b[0;34m\u001b[0m\u001b[0m\n",
      "\u001b[0;31mModuleNotFoundError\u001b[0m: No module named 'google.colab'"
     ]
    }
   ],
   "source": [
    "from google.colab import drive\n",
    "drive.mount('/content/gdrive')"
   ]
  },
  {
   "cell_type": "code",
   "execution_count": 2,
   "metadata": {
    "colab": {
     "base_uri": "https://localhost:8080/",
     "height": 34
    },
    "colab_type": "code",
    "executionInfo": {
     "elapsed": 5333,
     "status": "ok",
     "timestamp": 1570954166464,
     "user": {
      "displayName": "Anthony Ng",
      "photoUrl": "https://lh3.googleusercontent.com/a-/AAuE7mDCwHDw3XUA0T7h5JCQA3iBUS8Wbz1V-29O8pmP8g=s64",
      "userId": "06915612711739148186"
     },
     "user_tz": -480
    },
    "id": "YtU5iMk5Kh_F",
    "outputId": "19516b9f-2286-484e-a5bd-fdbe48c9bf48"
   },
   "outputs": [
    {
     "name": "stdout",
     "output_type": "stream",
     "text": [
      "Copy of 02-01-Hello World.ipynb\r\n",
      "Copy of 02-02-Iris Project.ipynb\r\n",
      "Copy of 03-01-Boston Housing Price Prediction.ipynb\r\n",
      "Copy of 03-02-Multiple Regression.ipynb\r\n",
      "Copy of 03-04-Regularized Regression.ipynb\r\n",
      "Copy of 03-05-Polynomial Regression.ipynb\r\n",
      "Copy of 03-06-Nonlinear Relationships.ipynb\r\n",
      "Copy of 03-07-Data Pre-processing.ipynb\r\n",
      "Copy of 03-08-Variance-Bias Tradeoff.ipynb\r\n",
      "Copy of 03-09-Cross Validation.ipynb\r\n",
      "Copy of 04-01-Logistic Regression.ipynb\r\n",
      "Copy of 04-02-MNIST(openml).ipynb\r\n",
      "Copy of 05-Support Vector Machine.ipynb\r\n",
      "Copy of 06-01-Tree.ipynb\r\n",
      "Copy of 06-02-Project HR.ipynb\r\n",
      "Copy of 07-01-Ensemble Methods 1 - Ensemble Learning Methods Introduction.ipynb\r\n",
      "Copy of 07-02-Ensemble Methods 2 - Bagging Machine Learning Algorithm.ipynb\r\n",
      "Copy of 07-03-Ensemble Methods 3 - Random Forest and Extra-Trees.ipynb\r\n",
      "Copy of 07-04-Ensemble Methods 4 - AdaBoost _ Gradient Boosting Machine.ipynb\r\n",
      "Copy of 07-05-XGBoost Installation Instruction.ipynb\r\n",
      "Copy of 07-06-XGBoost.ipynb\r\n",
      "Copy of 07-07-Project HR Complete.ipynb\r\n",
      "Copy of 07-08-Ensemble of Ensembles 1.ipynb\r\n",
      "Copy of 07-09-Ensemble of Ensembles 2.ipynb\r\n",
      "Copy of 08-01-k-Nearest Neighbor (KNN).ipynb\r\n",
      "Copy of 08-02-Project Cancer Detection.ipynb\r\n",
      "Copy of 09-01-Dimensionality Reduction.ipynb\r\n",
      "Copy of 09-02-Principal Component Analysis (PCA).ipynb\r\n",
      "Copy of 09-03-Project Wine.ipynb\r\n",
      "Copy of 09-04-Kernel PCA.ipynb\r\n",
      "Copy of 09-05-Linear Discriminant Analysis (LDA).ipynb\r\n",
      "Copy of 09-06-Project Abalone.ipynb\r\n",
      "Copy of 10-Clustering.ipynb\r\n",
      "\u001b[34mdata\u001b[m\u001b[m\r\n",
      "\u001b[34mimg\u001b[m\u001b[m\r\n",
      "\u001b[34mold\u001b[m\u001b[m\r\n"
     ]
    }
   ],
   "source": [
    "!ls"
   ]
  },
  {
   "cell_type": "code",
   "execution_count": 3,
   "metadata": {
    "colab": {
     "base_uri": "https://localhost:8080/",
     "height": 34
    },
    "colab_type": "code",
    "executionInfo": {
     "elapsed": 5537,
     "status": "ok",
     "timestamp": 1570954198310,
     "user": {
      "displayName": "Anthony Ng",
      "photoUrl": "https://lh3.googleusercontent.com/a-/AAuE7mDCwHDw3XUA0T7h5JCQA3iBUS8Wbz1V-29O8pmP8g=s64",
      "userId": "06915612711739148186"
     },
     "user_tz": -480
    },
    "id": "vul-R6x-Kokb",
    "outputId": "053260d2-0cb2-4a08-de35-1f8f645c1e94"
   },
   "outputs": [
    {
     "name": "stdout",
     "output_type": "stream",
     "text": [
      "ls: gdrive: No such file or directory\r\n"
     ]
    }
   ],
   "source": [
    "!ls gdrive"
   ]
  },
  {
   "cell_type": "code",
   "execution_count": null,
   "metadata": {
    "colab": {
     "base_uri": "https://localhost:8080/",
     "height": 102
    },
    "colab_type": "code",
    "executionInfo": {
     "elapsed": 4361,
     "status": "ok",
     "timestamp": 1570954252164,
     "user": {
      "displayName": "Anthony Ng",
      "photoUrl": "https://lh3.googleusercontent.com/a-/AAuE7mDCwHDw3XUA0T7h5JCQA3iBUS8Wbz1V-29O8pmP8g=s64",
      "userId": "06915612711739148186"
     },
     "user_tz": -480
    },
    "id": "MyYz970-KtG1",
    "outputId": "8c094229-5280-4d81-978a-de06c24a9391"
   },
   "outputs": [],
   "source": [
    "!ls \"gdrive/My Drive/ML with Python 2019/data\""
   ]
  },
  {
   "cell_type": "code",
   "execution_count": 8,
   "metadata": {
    "colab": {},
    "colab_type": "code",
    "id": "rbp4y2YeEiLA"
   },
   "outputs": [],
   "source": [
    "df = pd.read_csv('/Users/RyanPaw/ML 2019/data/iris.data')"
   ]
  },
  {
   "cell_type": "code",
   "execution_count": 9,
   "metadata": {
    "colab": {
     "base_uri": "https://localhost:8080/",
     "height": 204
    },
    "colab_type": "code",
    "executionInfo": {
     "elapsed": 1141,
     "status": "ok",
     "timestamp": 1570954280738,
     "user": {
      "displayName": "Anthony Ng",
      "photoUrl": "https://lh3.googleusercontent.com/a-/AAuE7mDCwHDw3XUA0T7h5JCQA3iBUS8Wbz1V-29O8pmP8g=s64",
      "userId": "06915612711739148186"
     },
     "user_tz": -480
    },
    "id": "D54i5pYCEiLD",
    "outputId": "6ca0f904-e3d0-4425-fdf5-b87cefb703bb"
   },
   "outputs": [
    {
     "data": {
      "text/html": [
       "<div>\n",
       "<style scoped>\n",
       "    .dataframe tbody tr th:only-of-type {\n",
       "        vertical-align: middle;\n",
       "    }\n",
       "\n",
       "    .dataframe tbody tr th {\n",
       "        vertical-align: top;\n",
       "    }\n",
       "\n",
       "    .dataframe thead th {\n",
       "        text-align: right;\n",
       "    }\n",
       "</style>\n",
       "<table border=\"1\" class=\"dataframe\">\n",
       "  <thead>\n",
       "    <tr style=\"text-align: right;\">\n",
       "      <th></th>\n",
       "      <th>5.1</th>\n",
       "      <th>3.5</th>\n",
       "      <th>1.4</th>\n",
       "      <th>0.2</th>\n",
       "      <th>Iris-setosa</th>\n",
       "    </tr>\n",
       "  </thead>\n",
       "  <tbody>\n",
       "    <tr>\n",
       "      <td>0</td>\n",
       "      <td>4.9</td>\n",
       "      <td>3.0</td>\n",
       "      <td>1.4</td>\n",
       "      <td>0.2</td>\n",
       "      <td>Iris-setosa</td>\n",
       "    </tr>\n",
       "    <tr>\n",
       "      <td>1</td>\n",
       "      <td>4.7</td>\n",
       "      <td>3.2</td>\n",
       "      <td>1.3</td>\n",
       "      <td>0.2</td>\n",
       "      <td>Iris-setosa</td>\n",
       "    </tr>\n",
       "    <tr>\n",
       "      <td>2</td>\n",
       "      <td>4.6</td>\n",
       "      <td>3.1</td>\n",
       "      <td>1.5</td>\n",
       "      <td>0.2</td>\n",
       "      <td>Iris-setosa</td>\n",
       "    </tr>\n",
       "    <tr>\n",
       "      <td>3</td>\n",
       "      <td>5.0</td>\n",
       "      <td>3.6</td>\n",
       "      <td>1.4</td>\n",
       "      <td>0.2</td>\n",
       "      <td>Iris-setosa</td>\n",
       "    </tr>\n",
       "    <tr>\n",
       "      <td>4</td>\n",
       "      <td>5.4</td>\n",
       "      <td>3.9</td>\n",
       "      <td>1.7</td>\n",
       "      <td>0.4</td>\n",
       "      <td>Iris-setosa</td>\n",
       "    </tr>\n",
       "  </tbody>\n",
       "</table>\n",
       "</div>"
      ],
      "text/plain": [
       "   5.1  3.5  1.4  0.2  Iris-setosa\n",
       "0  4.9  3.0  1.4  0.2  Iris-setosa\n",
       "1  4.7  3.2  1.3  0.2  Iris-setosa\n",
       "2  4.6  3.1  1.5  0.2  Iris-setosa\n",
       "3  5.0  3.6  1.4  0.2  Iris-setosa\n",
       "4  5.4  3.9  1.7  0.4  Iris-setosa"
      ]
     },
     "execution_count": 9,
     "metadata": {},
     "output_type": "execute_result"
    }
   ],
   "source": [
    "df.head()"
   ]
  },
  {
   "cell_type": "code",
   "execution_count": 11,
   "metadata": {
    "colab": {
     "base_uri": "https://localhost:8080/",
     "height": 204
    },
    "colab_type": "code",
    "executionInfo": {
     "elapsed": 1121,
     "status": "ok",
     "timestamp": 1570954297435,
     "user": {
      "displayName": "Anthony Ng",
      "photoUrl": "https://lh3.googleusercontent.com/a-/AAuE7mDCwHDw3XUA0T7h5JCQA3iBUS8Wbz1V-29O8pmP8g=s64",
      "userId": "06915612711739148186"
     },
     "user_tz": -480
    },
    "id": "UxgSovSSEiLF",
    "outputId": "2820b2b3-a06c-46b3-bfa8-12f340104aea"
   },
   "outputs": [
    {
     "data": {
      "text/html": [
       "<div>\n",
       "<style scoped>\n",
       "    .dataframe tbody tr th:only-of-type {\n",
       "        vertical-align: middle;\n",
       "    }\n",
       "\n",
       "    .dataframe tbody tr th {\n",
       "        vertical-align: top;\n",
       "    }\n",
       "\n",
       "    .dataframe thead th {\n",
       "        text-align: right;\n",
       "    }\n",
       "</style>\n",
       "<table border=\"1\" class=\"dataframe\">\n",
       "  <thead>\n",
       "    <tr style=\"text-align: right;\">\n",
       "      <th></th>\n",
       "      <th>0</th>\n",
       "      <th>1</th>\n",
       "      <th>2</th>\n",
       "      <th>3</th>\n",
       "      <th>4</th>\n",
       "    </tr>\n",
       "  </thead>\n",
       "  <tbody>\n",
       "    <tr>\n",
       "      <td>0</td>\n",
       "      <td>5.1</td>\n",
       "      <td>3.5</td>\n",
       "      <td>1.4</td>\n",
       "      <td>0.2</td>\n",
       "      <td>Iris-setosa</td>\n",
       "    </tr>\n",
       "    <tr>\n",
       "      <td>1</td>\n",
       "      <td>4.9</td>\n",
       "      <td>3.0</td>\n",
       "      <td>1.4</td>\n",
       "      <td>0.2</td>\n",
       "      <td>Iris-setosa</td>\n",
       "    </tr>\n",
       "    <tr>\n",
       "      <td>2</td>\n",
       "      <td>4.7</td>\n",
       "      <td>3.2</td>\n",
       "      <td>1.3</td>\n",
       "      <td>0.2</td>\n",
       "      <td>Iris-setosa</td>\n",
       "    </tr>\n",
       "    <tr>\n",
       "      <td>3</td>\n",
       "      <td>4.6</td>\n",
       "      <td>3.1</td>\n",
       "      <td>1.5</td>\n",
       "      <td>0.2</td>\n",
       "      <td>Iris-setosa</td>\n",
       "    </tr>\n",
       "    <tr>\n",
       "      <td>4</td>\n",
       "      <td>5.0</td>\n",
       "      <td>3.6</td>\n",
       "      <td>1.4</td>\n",
       "      <td>0.2</td>\n",
       "      <td>Iris-setosa</td>\n",
       "    </tr>\n",
       "  </tbody>\n",
       "</table>\n",
       "</div>"
      ],
      "text/plain": [
       "     0    1    2    3            4\n",
       "0  5.1  3.5  1.4  0.2  Iris-setosa\n",
       "1  4.9  3.0  1.4  0.2  Iris-setosa\n",
       "2  4.7  3.2  1.3  0.2  Iris-setosa\n",
       "3  4.6  3.1  1.5  0.2  Iris-setosa\n",
       "4  5.0  3.6  1.4  0.2  Iris-setosa"
      ]
     },
     "execution_count": 11,
     "metadata": {},
     "output_type": "execute_result"
    }
   ],
   "source": [
    "df = pd.read_csv('/Users/RyanPaw/ML 2019/data/iris.data', header=None)\n",
    "df.head()"
   ]
  },
  {
   "cell_type": "code",
   "execution_count": 12,
   "metadata": {
    "colab": {},
    "colab_type": "code",
    "id": "ScrWtB7FEiLH"
   },
   "outputs": [],
   "source": [
    "col_name = ['sepal length', 'sepal width', 'petal length', 'petal width', 'class']"
   ]
  },
  {
   "cell_type": "code",
   "execution_count": 13,
   "metadata": {
    "colab": {},
    "colab_type": "code",
    "id": "AeiBHb7REiLK"
   },
   "outputs": [],
   "source": [
    "df.columns = col_name"
   ]
  },
  {
   "cell_type": "code",
   "execution_count": 14,
   "metadata": {
    "colab": {
     "base_uri": "https://localhost:8080/",
     "height": 204
    },
    "colab_type": "code",
    "executionInfo": {
     "elapsed": 1226,
     "status": "ok",
     "timestamp": 1570954303060,
     "user": {
      "displayName": "Anthony Ng",
      "photoUrl": "https://lh3.googleusercontent.com/a-/AAuE7mDCwHDw3XUA0T7h5JCQA3iBUS8Wbz1V-29O8pmP8g=s64",
      "userId": "06915612711739148186"
     },
     "user_tz": -480
    },
    "id": "eWvnvXBWEiLM",
    "outputId": "bd25e3e5-7ebf-42f3-a16f-c146b79f97b6"
   },
   "outputs": [
    {
     "data": {
      "text/html": [
       "<div>\n",
       "<style scoped>\n",
       "    .dataframe tbody tr th:only-of-type {\n",
       "        vertical-align: middle;\n",
       "    }\n",
       "\n",
       "    .dataframe tbody tr th {\n",
       "        vertical-align: top;\n",
       "    }\n",
       "\n",
       "    .dataframe thead th {\n",
       "        text-align: right;\n",
       "    }\n",
       "</style>\n",
       "<table border=\"1\" class=\"dataframe\">\n",
       "  <thead>\n",
       "    <tr style=\"text-align: right;\">\n",
       "      <th></th>\n",
       "      <th>sepal length</th>\n",
       "      <th>sepal width</th>\n",
       "      <th>petal length</th>\n",
       "      <th>petal width</th>\n",
       "      <th>class</th>\n",
       "    </tr>\n",
       "  </thead>\n",
       "  <tbody>\n",
       "    <tr>\n",
       "      <td>0</td>\n",
       "      <td>5.1</td>\n",
       "      <td>3.5</td>\n",
       "      <td>1.4</td>\n",
       "      <td>0.2</td>\n",
       "      <td>Iris-setosa</td>\n",
       "    </tr>\n",
       "    <tr>\n",
       "      <td>1</td>\n",
       "      <td>4.9</td>\n",
       "      <td>3.0</td>\n",
       "      <td>1.4</td>\n",
       "      <td>0.2</td>\n",
       "      <td>Iris-setosa</td>\n",
       "    </tr>\n",
       "    <tr>\n",
       "      <td>2</td>\n",
       "      <td>4.7</td>\n",
       "      <td>3.2</td>\n",
       "      <td>1.3</td>\n",
       "      <td>0.2</td>\n",
       "      <td>Iris-setosa</td>\n",
       "    </tr>\n",
       "    <tr>\n",
       "      <td>3</td>\n",
       "      <td>4.6</td>\n",
       "      <td>3.1</td>\n",
       "      <td>1.5</td>\n",
       "      <td>0.2</td>\n",
       "      <td>Iris-setosa</td>\n",
       "    </tr>\n",
       "    <tr>\n",
       "      <td>4</td>\n",
       "      <td>5.0</td>\n",
       "      <td>3.6</td>\n",
       "      <td>1.4</td>\n",
       "      <td>0.2</td>\n",
       "      <td>Iris-setosa</td>\n",
       "    </tr>\n",
       "  </tbody>\n",
       "</table>\n",
       "</div>"
      ],
      "text/plain": [
       "   sepal length  sepal width  petal length  petal width        class\n",
       "0           5.1          3.5           1.4          0.2  Iris-setosa\n",
       "1           4.9          3.0           1.4          0.2  Iris-setosa\n",
       "2           4.7          3.2           1.3          0.2  Iris-setosa\n",
       "3           4.6          3.1           1.5          0.2  Iris-setosa\n",
       "4           5.0          3.6           1.4          0.2  Iris-setosa"
      ]
     },
     "execution_count": 14,
     "metadata": {},
     "output_type": "execute_result"
    }
   ],
   "source": [
    "df.head()"
   ]
  },
  {
   "cell_type": "markdown",
   "metadata": {
    "colab_type": "text",
    "id": "jIgfUhg2EiLN"
   },
   "source": [
    "# Iris Data from Seaborn"
   ]
  },
  {
   "cell_type": "code",
   "execution_count": 15,
   "metadata": {
    "colab": {
     "base_uri": "https://localhost:8080/",
     "height": 204
    },
    "colab_type": "code",
    "executionInfo": {
     "elapsed": 1055,
     "status": "ok",
     "timestamp": 1570954306230,
     "user": {
      "displayName": "Anthony Ng",
      "photoUrl": "https://lh3.googleusercontent.com/a-/AAuE7mDCwHDw3XUA0T7h5JCQA3iBUS8Wbz1V-29O8pmP8g=s64",
      "userId": "06915612711739148186"
     },
     "user_tz": -480
    },
    "id": "vCBtvq04EiLO",
    "outputId": "a735714b-6646-4d73-f3f9-1c2f540e3669"
   },
   "outputs": [
    {
     "data": {
      "text/html": [
       "<div>\n",
       "<style scoped>\n",
       "    .dataframe tbody tr th:only-of-type {\n",
       "        vertical-align: middle;\n",
       "    }\n",
       "\n",
       "    .dataframe tbody tr th {\n",
       "        vertical-align: top;\n",
       "    }\n",
       "\n",
       "    .dataframe thead th {\n",
       "        text-align: right;\n",
       "    }\n",
       "</style>\n",
       "<table border=\"1\" class=\"dataframe\">\n",
       "  <thead>\n",
       "    <tr style=\"text-align: right;\">\n",
       "      <th></th>\n",
       "      <th>sepal_length</th>\n",
       "      <th>sepal_width</th>\n",
       "      <th>petal_length</th>\n",
       "      <th>petal_width</th>\n",
       "      <th>species</th>\n",
       "    </tr>\n",
       "  </thead>\n",
       "  <tbody>\n",
       "    <tr>\n",
       "      <td>0</td>\n",
       "      <td>5.1</td>\n",
       "      <td>3.5</td>\n",
       "      <td>1.4</td>\n",
       "      <td>0.2</td>\n",
       "      <td>setosa</td>\n",
       "    </tr>\n",
       "    <tr>\n",
       "      <td>1</td>\n",
       "      <td>4.9</td>\n",
       "      <td>3.0</td>\n",
       "      <td>1.4</td>\n",
       "      <td>0.2</td>\n",
       "      <td>setosa</td>\n",
       "    </tr>\n",
       "    <tr>\n",
       "      <td>2</td>\n",
       "      <td>4.7</td>\n",
       "      <td>3.2</td>\n",
       "      <td>1.3</td>\n",
       "      <td>0.2</td>\n",
       "      <td>setosa</td>\n",
       "    </tr>\n",
       "    <tr>\n",
       "      <td>3</td>\n",
       "      <td>4.6</td>\n",
       "      <td>3.1</td>\n",
       "      <td>1.5</td>\n",
       "      <td>0.2</td>\n",
       "      <td>setosa</td>\n",
       "    </tr>\n",
       "    <tr>\n",
       "      <td>4</td>\n",
       "      <td>5.0</td>\n",
       "      <td>3.6</td>\n",
       "      <td>1.4</td>\n",
       "      <td>0.2</td>\n",
       "      <td>setosa</td>\n",
       "    </tr>\n",
       "  </tbody>\n",
       "</table>\n",
       "</div>"
      ],
      "text/plain": [
       "   sepal_length  sepal_width  petal_length  petal_width species\n",
       "0           5.1          3.5           1.4          0.2  setosa\n",
       "1           4.9          3.0           1.4          0.2  setosa\n",
       "2           4.7          3.2           1.3          0.2  setosa\n",
       "3           4.6          3.1           1.5          0.2  setosa\n",
       "4           5.0          3.6           1.4          0.2  setosa"
      ]
     },
     "execution_count": 15,
     "metadata": {},
     "output_type": "execute_result"
    }
   ],
   "source": [
    "iris = sns.load_dataset('iris')\n",
    "iris.head()"
   ]
  },
  {
   "cell_type": "code",
   "execution_count": 16,
   "metadata": {
    "colab": {
     "base_uri": "https://localhost:8080/",
     "height": 297
    },
    "colab_type": "code",
    "executionInfo": {
     "elapsed": 832,
     "status": "ok",
     "timestamp": 1570954306231,
     "user": {
      "displayName": "Anthony Ng",
      "photoUrl": "https://lh3.googleusercontent.com/a-/AAuE7mDCwHDw3XUA0T7h5JCQA3iBUS8Wbz1V-29O8pmP8g=s64",
      "userId": "06915612711739148186"
     },
     "user_tz": -480
    },
    "id": "mUWURLmFEiLP",
    "outputId": "fe29e1a0-94a8-47ad-b41b-ee191d6bb2a3"
   },
   "outputs": [
    {
     "data": {
      "text/html": [
       "<div>\n",
       "<style scoped>\n",
       "    .dataframe tbody tr th:only-of-type {\n",
       "        vertical-align: middle;\n",
       "    }\n",
       "\n",
       "    .dataframe tbody tr th {\n",
       "        vertical-align: top;\n",
       "    }\n",
       "\n",
       "    .dataframe thead th {\n",
       "        text-align: right;\n",
       "    }\n",
       "</style>\n",
       "<table border=\"1\" class=\"dataframe\">\n",
       "  <thead>\n",
       "    <tr style=\"text-align: right;\">\n",
       "      <th></th>\n",
       "      <th>sepal length</th>\n",
       "      <th>sepal width</th>\n",
       "      <th>petal length</th>\n",
       "      <th>petal width</th>\n",
       "    </tr>\n",
       "  </thead>\n",
       "  <tbody>\n",
       "    <tr>\n",
       "      <td>count</td>\n",
       "      <td>150.000000</td>\n",
       "      <td>150.000000</td>\n",
       "      <td>150.000000</td>\n",
       "      <td>150.000000</td>\n",
       "    </tr>\n",
       "    <tr>\n",
       "      <td>mean</td>\n",
       "      <td>5.843333</td>\n",
       "      <td>3.054000</td>\n",
       "      <td>3.758667</td>\n",
       "      <td>1.198667</td>\n",
       "    </tr>\n",
       "    <tr>\n",
       "      <td>std</td>\n",
       "      <td>0.828066</td>\n",
       "      <td>0.433594</td>\n",
       "      <td>1.764420</td>\n",
       "      <td>0.763161</td>\n",
       "    </tr>\n",
       "    <tr>\n",
       "      <td>min</td>\n",
       "      <td>4.300000</td>\n",
       "      <td>2.000000</td>\n",
       "      <td>1.000000</td>\n",
       "      <td>0.100000</td>\n",
       "    </tr>\n",
       "    <tr>\n",
       "      <td>25%</td>\n",
       "      <td>5.100000</td>\n",
       "      <td>2.800000</td>\n",
       "      <td>1.600000</td>\n",
       "      <td>0.300000</td>\n",
       "    </tr>\n",
       "    <tr>\n",
       "      <td>50%</td>\n",
       "      <td>5.800000</td>\n",
       "      <td>3.000000</td>\n",
       "      <td>4.350000</td>\n",
       "      <td>1.300000</td>\n",
       "    </tr>\n",
       "    <tr>\n",
       "      <td>75%</td>\n",
       "      <td>6.400000</td>\n",
       "      <td>3.300000</td>\n",
       "      <td>5.100000</td>\n",
       "      <td>1.800000</td>\n",
       "    </tr>\n",
       "    <tr>\n",
       "      <td>max</td>\n",
       "      <td>7.900000</td>\n",
       "      <td>4.400000</td>\n",
       "      <td>6.900000</td>\n",
       "      <td>2.500000</td>\n",
       "    </tr>\n",
       "  </tbody>\n",
       "</table>\n",
       "</div>"
      ],
      "text/plain": [
       "       sepal length  sepal width  petal length  petal width\n",
       "count    150.000000   150.000000    150.000000   150.000000\n",
       "mean       5.843333     3.054000      3.758667     1.198667\n",
       "std        0.828066     0.433594      1.764420     0.763161\n",
       "min        4.300000     2.000000      1.000000     0.100000\n",
       "25%        5.100000     2.800000      1.600000     0.300000\n",
       "50%        5.800000     3.000000      4.350000     1.300000\n",
       "75%        6.400000     3.300000      5.100000     1.800000\n",
       "max        7.900000     4.400000      6.900000     2.500000"
      ]
     },
     "execution_count": 16,
     "metadata": {},
     "output_type": "execute_result"
    }
   ],
   "source": [
    "df.describe()"
   ]
  },
  {
   "cell_type": "code",
   "execution_count": 17,
   "metadata": {
    "colab": {
     "base_uri": "https://localhost:8080/",
     "height": 297
    },
    "colab_type": "code",
    "executionInfo": {
     "elapsed": 650,
     "status": "ok",
     "timestamp": 1570954306232,
     "user": {
      "displayName": "Anthony Ng",
      "photoUrl": "https://lh3.googleusercontent.com/a-/AAuE7mDCwHDw3XUA0T7h5JCQA3iBUS8Wbz1V-29O8pmP8g=s64",
      "userId": "06915612711739148186"
     },
     "user_tz": -480
    },
    "id": "nZY4g9OREiLR",
    "outputId": "60af48c5-add6-4254-d5a4-9cd7051cdaee"
   },
   "outputs": [
    {
     "data": {
      "text/html": [
       "<div>\n",
       "<style scoped>\n",
       "    .dataframe tbody tr th:only-of-type {\n",
       "        vertical-align: middle;\n",
       "    }\n",
       "\n",
       "    .dataframe tbody tr th {\n",
       "        vertical-align: top;\n",
       "    }\n",
       "\n",
       "    .dataframe thead th {\n",
       "        text-align: right;\n",
       "    }\n",
       "</style>\n",
       "<table border=\"1\" class=\"dataframe\">\n",
       "  <thead>\n",
       "    <tr style=\"text-align: right;\">\n",
       "      <th></th>\n",
       "      <th>sepal_length</th>\n",
       "      <th>sepal_width</th>\n",
       "      <th>petal_length</th>\n",
       "      <th>petal_width</th>\n",
       "    </tr>\n",
       "  </thead>\n",
       "  <tbody>\n",
       "    <tr>\n",
       "      <td>count</td>\n",
       "      <td>150.000000</td>\n",
       "      <td>150.000000</td>\n",
       "      <td>150.000000</td>\n",
       "      <td>150.000000</td>\n",
       "    </tr>\n",
       "    <tr>\n",
       "      <td>mean</td>\n",
       "      <td>5.843333</td>\n",
       "      <td>3.057333</td>\n",
       "      <td>3.758000</td>\n",
       "      <td>1.199333</td>\n",
       "    </tr>\n",
       "    <tr>\n",
       "      <td>std</td>\n",
       "      <td>0.828066</td>\n",
       "      <td>0.435866</td>\n",
       "      <td>1.765298</td>\n",
       "      <td>0.762238</td>\n",
       "    </tr>\n",
       "    <tr>\n",
       "      <td>min</td>\n",
       "      <td>4.300000</td>\n",
       "      <td>2.000000</td>\n",
       "      <td>1.000000</td>\n",
       "      <td>0.100000</td>\n",
       "    </tr>\n",
       "    <tr>\n",
       "      <td>25%</td>\n",
       "      <td>5.100000</td>\n",
       "      <td>2.800000</td>\n",
       "      <td>1.600000</td>\n",
       "      <td>0.300000</td>\n",
       "    </tr>\n",
       "    <tr>\n",
       "      <td>50%</td>\n",
       "      <td>5.800000</td>\n",
       "      <td>3.000000</td>\n",
       "      <td>4.350000</td>\n",
       "      <td>1.300000</td>\n",
       "    </tr>\n",
       "    <tr>\n",
       "      <td>75%</td>\n",
       "      <td>6.400000</td>\n",
       "      <td>3.300000</td>\n",
       "      <td>5.100000</td>\n",
       "      <td>1.800000</td>\n",
       "    </tr>\n",
       "    <tr>\n",
       "      <td>max</td>\n",
       "      <td>7.900000</td>\n",
       "      <td>4.400000</td>\n",
       "      <td>6.900000</td>\n",
       "      <td>2.500000</td>\n",
       "    </tr>\n",
       "  </tbody>\n",
       "</table>\n",
       "</div>"
      ],
      "text/plain": [
       "       sepal_length  sepal_width  petal_length  petal_width\n",
       "count    150.000000   150.000000    150.000000   150.000000\n",
       "mean       5.843333     3.057333      3.758000     1.199333\n",
       "std        0.828066     0.435866      1.765298     0.762238\n",
       "min        4.300000     2.000000      1.000000     0.100000\n",
       "25%        5.100000     2.800000      1.600000     0.300000\n",
       "50%        5.800000     3.000000      4.350000     1.300000\n",
       "75%        6.400000     3.300000      5.100000     1.800000\n",
       "max        7.900000     4.400000      6.900000     2.500000"
      ]
     },
     "execution_count": 17,
     "metadata": {},
     "output_type": "execute_result"
    }
   ],
   "source": [
    "iris.describe()"
   ]
  },
  {
   "cell_type": "code",
   "execution_count": 18,
   "metadata": {
    "colab": {
     "base_uri": "https://localhost:8080/",
     "height": 204
    },
    "colab_type": "code",
    "executionInfo": {
     "elapsed": 1234,
     "status": "ok",
     "timestamp": 1570954307790,
     "user": {
      "displayName": "Anthony Ng",
      "photoUrl": "https://lh3.googleusercontent.com/a-/AAuE7mDCwHDw3XUA0T7h5JCQA3iBUS8Wbz1V-29O8pmP8g=s64",
      "userId": "06915612711739148186"
     },
     "user_tz": -480
    },
    "id": "mpKrRWAUEiLU",
    "outputId": "261ef814-7dfa-46f9-fc19-b89af3695b35"
   },
   "outputs": [
    {
     "name": "stdout",
     "output_type": "stream",
     "text": [
      "<class 'pandas.core.frame.DataFrame'>\n",
      "RangeIndex: 150 entries, 0 to 149\n",
      "Data columns (total 5 columns):\n",
      "sepal_length    150 non-null float64\n",
      "sepal_width     150 non-null float64\n",
      "petal_length    150 non-null float64\n",
      "petal_width     150 non-null float64\n",
      "species         150 non-null object\n",
      "dtypes: float64(4), object(1)\n",
      "memory usage: 6.0+ KB\n",
      "None\n"
     ]
    }
   ],
   "source": [
    "print(iris.info())"
   ]
  },
  {
   "cell_type": "code",
   "execution_count": 19,
   "metadata": {
    "colab": {
     "base_uri": "https://localhost:8080/",
     "height": 102
    },
    "colab_type": "code",
    "executionInfo": {
     "elapsed": 552,
     "status": "ok",
     "timestamp": 1570954309435,
     "user": {
      "displayName": "Anthony Ng",
      "photoUrl": "https://lh3.googleusercontent.com/a-/AAuE7mDCwHDw3XUA0T7h5JCQA3iBUS8Wbz1V-29O8pmP8g=s64",
      "userId": "06915612711739148186"
     },
     "user_tz": -480
    },
    "id": "9X7MJ8xoEiLV",
    "outputId": "5e59dd84-5ca5-439e-888f-df338d8d1541"
   },
   "outputs": [
    {
     "name": "stdout",
     "output_type": "stream",
     "text": [
      "species\n",
      "setosa        50\n",
      "versicolor    50\n",
      "virginica     50\n",
      "dtype: int64\n"
     ]
    }
   ],
   "source": [
    "print(iris.groupby('species').size())"
   ]
  },
  {
   "cell_type": "markdown",
   "metadata": {
    "colab_type": "text",
    "id": "KLcKxk2cEiLX"
   },
   "source": [
    "# Visualisation"
   ]
  },
  {
   "cell_type": "code",
   "execution_count": 20,
   "metadata": {
    "colab": {
     "base_uri": "https://localhost:8080/",
     "height": 873
    },
    "colab_type": "code",
    "executionInfo": {
     "elapsed": 6024,
     "status": "ok",
     "timestamp": 1570954317402,
     "user": {
      "displayName": "Anthony Ng",
      "photoUrl": "https://lh3.googleusercontent.com/a-/AAuE7mDCwHDw3XUA0T7h5JCQA3iBUS8Wbz1V-29O8pmP8g=s64",
      "userId": "06915612711739148186"
     },
     "user_tz": -480
    },
    "id": "qaQHACBrEiLX",
    "outputId": "94c8812d-1122-430b-81e5-034664ee394f"
   },
   "outputs": [
    {
     "data": {
      "image/png": "[encoded data removed]",
      "text/plain": [
       "<Figure size 950.85x864 with 20 Axes>"
      ]
     },
     "metadata": {
      "needs_background": "light"
     },
     "output_type": "display_data"
    }
   ],
   "source": [
    "sns.pairplot(iris, hue='species', height=3, aspect=1);"
   ]
  },
  {
   "cell_type": "code",
   "execution_count": 21,
   "metadata": {
    "colab": {
     "base_uri": "https://localhost:8080/",
     "height": 501
    },
    "colab_type": "code",
    "executionInfo": {
     "elapsed": 6483,
     "status": "ok",
     "timestamp": 1570954318072,
     "user": {
      "displayName": "Anthony Ng",
      "photoUrl": "https://lh3.googleusercontent.com/a-/AAuE7mDCwHDw3XUA0T7h5JCQA3iBUS8Wbz1V-29O8pmP8g=s64",
      "userId": "06915612711739148186"
     },
     "user_tz": -480
    },
    "id": "vmPivfPCEiLZ",
    "outputId": "03b8522e-e255-4dec-8b8e-abef7cc15b67"
   },
   "outputs": [
    {
     "data": {
      "image/png": "[encoded data removed]",
      "text/plain": [
       "<Figure size 864x576 with 4 Axes>"
      ]
     },
     "metadata": {
      "needs_background": "light"
     },
     "output_type": "display_data"
    }
   ],
   "source": [
    "iris.hist(edgecolor='black', linewidth=1.2, figsize=(12,8));\n",
    "plt.show();"
   ]
  },
  {
   "cell_type": "code",
   "execution_count": null,
   "metadata": {
    "colab": {
     "base_uri": "https://localhost:8080/",
     "height": 508
    },
    "colab_type": "code",
    "executionInfo": {
     "elapsed": 7566,
     "status": "ok",
     "timestamp": 1570954319364,
     "user": {
      "displayName": "Anthony Ng",
      "photoUrl": "https://lh3.googleusercontent.com/a-/AAuE7mDCwHDw3XUA0T7h5JCQA3iBUS8Wbz1V-29O8pmP8g=s64",
      "userId": "06915612711739148186"
     },
     "user_tz": -480
    },
    "id": "NR72UptxEiLb",
    "outputId": "b4f6e8c0-197c-4099-fd56-704c18f3db08"
   },
   "outputs": [],
   "source": [
    "plt.figure(figsize=(12,8));\n",
    "plt.subplot(2,2,1)\n",
    "sns.violinplot(x='species', y='sepal_length', data=iris)\n",
    "plt.subplot(2,2,2)\n",
    "sns.violinplot(x='species', y='sepal_width', data=iris)\n",
    "plt.subplot(2,2,3)\n",
    "sns.violinplot(x='species', y='petal_length', data=iris)\n",
    "plt.subplot(2,2,4)\n",
    "sns.violinplot(x='species', y='petal_width', data=iris);\n"
   ]
  },
  {
   "cell_type": "code",
   "execution_count": null,
   "metadata": {
    "colab": {
     "base_uri": "https://localhost:8080/",
     "height": 545
    },
    "colab_type": "code",
    "executionInfo": {
     "elapsed": 8076,
     "status": "ok",
     "timestamp": 1570954320071,
     "user": {
      "displayName": "Anthony Ng",
      "photoUrl": "https://lh3.googleusercontent.com/a-/AAuE7mDCwHDw3XUA0T7h5JCQA3iBUS8Wbz1V-29O8pmP8g=s64",
      "userId": "06915612711739148186"
     },
     "user_tz": -480
    },
    "id": "X_OTlCfyEiLd",
    "outputId": "26748acd-8f2e-4c22-c0ca-bd6557694a8b"
   },
   "outputs": [],
   "source": [
    "iris.boxplot(by='species', figsize=(12,8));"
   ]
  },
  {
   "cell_type": "code",
   "execution_count": null,
   "metadata": {
    "colab": {
     "base_uri": "https://localhost:8080/",
     "height": 612
    },
    "colab_type": "code",
    "executionInfo": {
     "elapsed": 8450,
     "status": "ok",
     "timestamp": 1570954322624,
     "user": {
      "displayName": "Anthony Ng",
      "photoUrl": "https://lh3.googleusercontent.com/a-/AAuE7mDCwHDw3XUA0T7h5JCQA3iBUS8Wbz1V-29O8pmP8g=s64",
      "userId": "06915612711739148186"
     },
     "user_tz": -480
    },
    "id": "7AakIf9iEiLf",
    "outputId": "e0d082e8-e86b-40d9-c851-23775ac69e6f"
   },
   "outputs": [],
   "source": [
    "pd.plotting.scatter_matrix(iris, figsize=(12,10))\n",
    "plt.show()"
   ]
  },
  {
   "cell_type": "code",
   "execution_count": null,
   "metadata": {
    "colab": {
     "base_uri": "https://localhost:8080/",
     "height": 729
    },
    "colab_type": "code",
    "executionInfo": {
     "elapsed": 13317,
     "status": "ok",
     "timestamp": 1570954327784,
     "user": {
      "displayName": "Anthony Ng",
      "photoUrl": "https://lh3.googleusercontent.com/a-/AAuE7mDCwHDw3XUA0T7h5JCQA3iBUS8Wbz1V-29O8pmP8g=s64",
      "userId": "06915612711739148186"
     },
     "user_tz": -480
    },
    "id": "w_UTrsogEiLg",
    "outputId": "4a9b9e23-8428-4a14-f9c9-c742cd469126"
   },
   "outputs": [],
   "source": [
    "sns.pairplot(iris, hue=\"species\", diag_kind=\"kde\");"
   ]
  },
  {
   "cell_type": "markdown",
   "metadata": {
    "colab_type": "text",
    "id": "KAquotgNEiLi"
   },
   "source": [
    "***"
   ]
  },
  {
   "cell_type": "markdown",
   "metadata": {
    "colab_type": "text",
    "id": "YVY1GWXsEiLj"
   },
   "source": [
    "# scikit-learn\n",
    "\n",
    "url = [http://scikit-learn.org/stable/](http://scikit-learn.org/stable/)"
   ]
  },
  {
   "cell_type": "markdown",
   "metadata": {
    "colab_type": "text",
    "id": "gj4_D1ufEiLn"
   },
   "source": [
    "## Key points\n",
    "\n",
    "* Data in the form of a table\n",
    "* Features in the form of a matrix\n",
    "* Label or target array"
   ]
  },
  {
   "cell_type": "code",
   "execution_count": null,
   "metadata": {
    "colab": {
     "base_uri": "https://localhost:8080/",
     "height": 204
    },
    "colab_type": "code",
    "executionInfo": {
     "elapsed": 1118,
     "status": "ok",
     "timestamp": 1570954350200,
     "user": {
      "displayName": "Anthony Ng",
      "photoUrl": "https://lh3.googleusercontent.com/a-/AAuE7mDCwHDw3XUA0T7h5JCQA3iBUS8Wbz1V-29O8pmP8g=s64",
      "userId": "06915612711739148186"
     },
     "user_tz": -480
    },
    "id": "4zPWFBmaEiLn",
    "outputId": "0ccac8dd-4d3f-4dec-d4d7-412c467dd0de"
   },
   "outputs": [],
   "source": [
    "iris.head()"
   ]
  },
  {
   "cell_type": "markdown",
   "metadata": {
    "colab_type": "text",
    "id": "xQlmgXXxEiLp"
   },
   "source": [
    "# Scikit-Learn API\n",
    "\n",
    "url = [https://arxiv.org/abs/1309.0238](https://arxiv.org/abs/1309.0238)"
   ]
  },
  {
   "cell_type": "markdown",
   "metadata": {
    "colab_type": "text",
    "id": "jpRnPo74EiLp"
   },
   "source": [
    "## General principles\n",
    "\n",
    "* **Consistency**. All objects (basic or composite) share a consistent interface composed of a limited set of methods. This interface is documented in a consistent manner for all objects. \n",
    "\n",
    "* **Inspection**. Constructor parameters and parameter values determined by learning algorithms are stored and exposed as public attributes. \n",
    "\n",
    "* **Non-proliferation of classes**. Learning algorithms are the only objects to be represented using custom classes. Datasets are represented as NumPy arrays or SciPy sparse matrices. Hyper-parameter names and values are represented as standard Python strings or numbers whenever possible. This keeps scikitlearn easy to use and easy to combine with other libraries. \n",
    "\n",
    "* **Composition**. Many machine learning tasks are expressible as sequences or combinations of transformations to data. Some learning algorithms are also naturally viewed as meta-algorithms parametrized on other algorithms. Whenever feasible, such algorithms are implemented and composed from existing building blocks. \n",
    "\n",
    "* **Sensible defaults**. Whenever an operation requires a user-deﬁned parameter, an appropriate default value is deﬁned by the library. The default value should cause the operation to be performed in a sensible way (giving a baseline solution for the task at hand).\n",
    "\n"
   ]
  },
  {
   "cell_type": "markdown",
   "metadata": {
    "colab_type": "text",
    "id": "icn4zpWnEiLq"
   },
   "source": [
    "# Basic Steps of Using Scikit-Learn API"
   ]
  },
  {
   "cell_type": "markdown",
   "metadata": {
    "colab_type": "text",
    "id": "-MxKtsQwEiLq"
   },
   "source": [
    "1. Choose a class of model\n",
    "2. Choose model hyperparameters\n",
    "3. Arrage data into features matrix and target array\n",
    "4. Fit model to data\n",
    "5. Apply trained model to new data\n",
    "\n"
   ]
  },
  {
   "cell_type": "markdown",
   "metadata": {
    "colab_type": "text",
    "id": "cRZPSdtnEiLq"
   },
   "source": [
    "# Supervised Learning: Simple Linear Regression"
   ]
  },
  {
   "cell_type": "code",
   "execution_count": null,
   "metadata": {
    "colab": {},
    "colab_type": "code",
    "id": "ySVrTPqUEiLr"
   },
   "outputs": [],
   "source": [
    "generate_random = np.random.RandomState(0)\n",
    "x = 10 * generate_random.rand(100)"
   ]
  },
  {
   "cell_type": "code",
   "execution_count": null,
   "metadata": {
    "colab": {},
    "colab_type": "code",
    "id": "-_WFMBEfEiLs"
   },
   "outputs": [],
   "source": [
    "y = 3 * x + np.random.randn(100)"
   ]
  },
  {
   "cell_type": "code",
   "execution_count": null,
   "metadata": {
    "colab": {
     "base_uri": "https://localhost:8080/",
     "height": 491
    },
    "colab_type": "code",
    "executionInfo": {
     "elapsed": 1419,
     "status": "ok",
     "timestamp": 1570954355467,
     "user": {
      "displayName": "Anthony Ng",
      "photoUrl": "https://lh3.googleusercontent.com/a-/AAuE7mDCwHDw3XUA0T7h5JCQA3iBUS8Wbz1V-29O8pmP8g=s64",
      "userId": "06915612711739148186"
     },
     "user_tz": -480
    },
    "id": "Wm-rHW95EiLw",
    "outputId": "fc206c08-3a6c-4d52-eb53-54b23ff6c8a4"
   },
   "outputs": [],
   "source": [
    "plt.figure(figsize = (10, 8))\n",
    "plt.scatter(x, y);"
   ]
  },
  {
   "cell_type": "markdown",
   "metadata": {
    "colab_type": "text",
    "id": "xg6JI3-bEiLx"
   },
   "source": [
    "## Step 1. Choose a class of model"
   ]
  },
  {
   "cell_type": "code",
   "execution_count": null,
   "metadata": {
    "colab": {},
    "colab_type": "code",
    "id": "sd9MkqL6EiLy"
   },
   "outputs": [],
   "source": [
    "from sklearn.linear_model import LinearRegression"
   ]
  },
  {
   "cell_type": "markdown",
   "metadata": {
    "colab_type": "text",
    "id": "V876WOeyEiL0"
   },
   "source": [
    "## Step 2. Choose model hyperparameters"
   ]
  },
  {
   "cell_type": "code",
   "execution_count": null,
   "metadata": {
    "colab": {},
    "colab_type": "code",
    "id": "MCb0yfcbEiL1"
   },
   "outputs": [],
   "source": [
    "model = LinearRegression(fit_intercept=True)"
   ]
  },
  {
   "cell_type": "code",
   "execution_count": null,
   "metadata": {
    "colab": {
     "base_uri": "https://localhost:8080/",
     "height": 34
    },
    "colab_type": "code",
    "executionInfo": {
     "elapsed": 1047,
     "status": "ok",
     "timestamp": 1570954356718,
     "user": {
      "displayName": "Anthony Ng",
      "photoUrl": "https://lh3.googleusercontent.com/a-/AAuE7mDCwHDw3XUA0T7h5JCQA3iBUS8Wbz1V-29O8pmP8g=s64",
      "userId": "06915612711739148186"
     },
     "user_tz": -480
    },
    "id": "zWE9ltMtEiL2",
    "outputId": "04e7ba3b-ce51-4704-d2f3-37ab260eb3bf"
   },
   "outputs": [],
   "source": [
    "model"
   ]
  },
  {
   "cell_type": "markdown",
   "metadata": {
    "colab_type": "text",
    "id": "5VgR4fhQEiL4"
   },
   "source": [
    "## Step 3. Arrage data into features matrix and target array\n"
   ]
  },
  {
   "cell_type": "code",
   "execution_count": null,
   "metadata": {
    "colab": {
     "base_uri": "https://localhost:8080/",
     "height": 34
    },
    "colab_type": "code",
    "executionInfo": {
     "elapsed": 1775,
     "status": "ok",
     "timestamp": 1570954358282,
     "user": {
      "displayName": "Anthony Ng",
      "photoUrl": "https://lh3.googleusercontent.com/a-/AAuE7mDCwHDw3XUA0T7h5JCQA3iBUS8Wbz1V-29O8pmP8g=s64",
      "userId": "06915612711739148186"
     },
     "user_tz": -480
    },
    "id": "TMvCLV3AEiL5",
    "outputId": "25d33c84-6b88-4402-e127-c0257a2aac76"
   },
   "outputs": [],
   "source": [
    "X = x.reshape(-1, 1)\n",
    "X.shape"
   ]
  },
  {
   "cell_type": "markdown",
   "metadata": {
    "colab_type": "text",
    "id": "FMIEFpzeEiL6"
   },
   "source": [
    "## Step 4. Fit model to data\n"
   ]
  },
  {
   "cell_type": "code",
   "execution_count": null,
   "metadata": {
    "colab": {
     "base_uri": "https://localhost:8080/",
     "height": 34
    },
    "colab_type": "code",
    "executionInfo": {
     "elapsed": 1011,
     "status": "ok",
     "timestamp": 1570954358283,
     "user": {
      "displayName": "Anthony Ng",
      "photoUrl": "https://lh3.googleusercontent.com/a-/AAuE7mDCwHDw3XUA0T7h5JCQA3iBUS8Wbz1V-29O8pmP8g=s64",
      "userId": "06915612711739148186"
     },
     "user_tz": -480
    },
    "id": "Ba01Y4UwEiL6",
    "outputId": "a726c40a-287d-4ef4-b9e0-ed4abc4ce907"
   },
   "outputs": [],
   "source": [
    "model.fit(X, y)"
   ]
  },
  {
   "cell_type": "code",
   "execution_count": null,
   "metadata": {
    "colab": {
     "base_uri": "https://localhost:8080/",
     "height": 34
    },
    "colab_type": "code",
    "executionInfo": {
     "elapsed": 715,
     "status": "ok",
     "timestamp": 1570954358284,
     "user": {
      "displayName": "Anthony Ng",
      "photoUrl": "https://lh3.googleusercontent.com/a-/AAuE7mDCwHDw3XUA0T7h5JCQA3iBUS8Wbz1V-29O8pmP8g=s64",
      "userId": "06915612711739148186"
     },
     "user_tz": -480
    },
    "id": "tqAjvLyFEiL8",
    "outputId": "c7941e0f-f914-4ecc-ace4-88646597887b"
   },
   "outputs": [],
   "source": [
    "model.coef_"
   ]
  },
  {
   "cell_type": "code",
   "execution_count": null,
   "metadata": {
    "colab": {
     "base_uri": "https://localhost:8080/",
     "height": 34
    },
    "colab_type": "code",
    "executionInfo": {
     "elapsed": 1549,
     "status": "ok",
     "timestamp": 1570954359395,
     "user": {
      "displayName": "Anthony Ng",
      "photoUrl": "https://lh3.googleusercontent.com/a-/AAuE7mDCwHDw3XUA0T7h5JCQA3iBUS8Wbz1V-29O8pmP8g=s64",
      "userId": "06915612711739148186"
     },
     "user_tz": -480
    },
    "id": "j67pVv6HEiL9",
    "outputId": "a4fa07f6-acdf-41c8-d6fa-68209810113c"
   },
   "outputs": [],
   "source": [
    "model.intercept_"
   ]
  },
  {
   "cell_type": "markdown",
   "metadata": {
    "colab_type": "text",
    "id": "lvMm8tGYEiL-"
   },
   "source": [
    "## Step 5. Apply trained model to new data"
   ]
  },
  {
   "cell_type": "code",
   "execution_count": null,
   "metadata": {
    "colab": {},
    "colab_type": "code",
    "id": "mo7erCAYEiL_"
   },
   "outputs": [],
   "source": [
    "x_fit = np.linspace(-1, 11)"
   ]
  },
  {
   "cell_type": "code",
   "execution_count": null,
   "metadata": {
    "colab": {},
    "colab_type": "code",
    "id": "JD-CJbsNEiMA"
   },
   "outputs": [],
   "source": [
    "X_fit = x_fit.reshape(-1,1)"
   ]
  },
  {
   "cell_type": "code",
   "execution_count": null,
   "metadata": {
    "colab": {},
    "colab_type": "code",
    "id": "PWeGfuSiEiMB"
   },
   "outputs": [],
   "source": [
    "y_fit = model.predict(X_fit)"
   ]
  },
  {
   "cell_type": "markdown",
   "metadata": {
    "colab_type": "text",
    "id": "Zs1GqUHIEiME"
   },
   "source": [
    "## Visualise"
   ]
  },
  {
   "cell_type": "code",
   "execution_count": null,
   "metadata": {
    "colab": {
     "base_uri": "https://localhost:8080/",
     "height": 491
    },
    "colab_type": "code",
    "executionInfo": {
     "elapsed": 1584,
     "status": "ok",
     "timestamp": 1570954363264,
     "user": {
      "displayName": "Anthony Ng",
      "photoUrl": "https://lh3.googleusercontent.com/a-/AAuE7mDCwHDw3XUA0T7h5JCQA3iBUS8Wbz1V-29O8pmP8g=s64",
      "userId": "06915612711739148186"
     },
     "user_tz": -480
    },
    "id": "oz1Kld6AEiMF",
    "outputId": "999a8afb-380c-4918-c17c-e346ce3d1a86"
   },
   "outputs": [],
   "source": [
    "plt.figure(figsize = (10, 8))\n",
    "plt.scatter(x, y)\n",
    "plt.plot(x_fit, y_fit);"
   ]
  },
  {
   "cell_type": "markdown",
   "metadata": {
    "colab_type": "text",
    "id": "_6hh-A7iEiMG"
   },
   "source": [
    "***"
   ]
  }
 ],
 "metadata": {
  "accelerator": "GPU",
  "colab": {
   "collapsed_sections": [
    "jpRnPo74EiLp"
   ],
   "name": "Copy of 02-02-Iris Project.ipynb",
   "provenance": [
    {
     "file_id": "1FPCFMbhu3sGmRS6I83_12y2o04wsImEd",
     "timestamp": 1572423884903
    },
    {
     "file_id": "1T6mLbUGIhPezMXDagD-1AFWE8TXzAPWa",
     "timestamp": 1570952625556
    }
   ]
  },
  "kernelspec": {
   "display_name": "Python 3",
   "language": "python",
   "name": "python3"
  },
  "language_info": {
   "codemirror_mode": {
    "name": "ipython",
    "version": 3
   },
   "file_extension": ".py",
   "mimetype": "text/x-python",
   "name": "python",
   "nbconvert_exporter": "python",
   "pygments_lexer": "ipython3",
   "version": "3.7.4"
  }
 },
 "nbformat": 4,
 "nbformat_minor": 1
}
